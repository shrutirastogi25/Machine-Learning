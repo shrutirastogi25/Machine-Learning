{
 "cells": [
  {
   "cell_type": "markdown",
   "metadata": {},
   "source": [
    "# Operations on Matrices"
   ]
  },
  {
   "cell_type": "code",
   "execution_count": 1,
   "metadata": {},
   "outputs": [],
   "source": [
    "import numpy as np"
   ]
  },
  {
   "cell_type": "code",
   "execution_count": 4,
   "metadata": {},
   "outputs": [
    {
     "name": "stdout",
     "output_type": "stream",
     "text": [
      "Matrix 1:\n",
      "[[2 9 9]\n",
      " [5 3 5]\n",
      " [6 5 1]]\n",
      "Matrix 2:\n",
      "[[5 3 9]\n",
      " [4 1 3]\n",
      " [6 8 4]]\n"
     ]
    }
   ],
   "source": [
    "matrix1 = np.random.randint(1,10,(3,3))\n",
    "matrix2 = np.random.randint(1,10,(3,3))\n",
    "print('Matrix 1:')\n",
    "print(matrix1)\n",
    "print('Matrix 2:')\n",
    "print(matrix2)"
   ]
  },
  {
   "cell_type": "markdown",
   "metadata": {},
   "source": [
    "## Addition"
   ]
  },
  {
   "cell_type": "code",
   "execution_count": 5,
   "metadata": {},
   "outputs": [
    {
     "name": "stdout",
     "output_type": "stream",
     "text": [
      "Addition:\n",
      "[[ 7 12 18]\n",
      " [ 9  4  8]\n",
      " [12 13  5]]\n"
     ]
    }
   ],
   "source": [
    "matrix3=matrix1+matrix2\n",
    "print('Addition:')\n",
    "print(matrix3)"
   ]
  },
  {
   "cell_type": "markdown",
   "metadata": {},
   "source": [
    "## Subtraction"
   ]
  },
  {
   "cell_type": "code",
   "execution_count": 6,
   "metadata": {},
   "outputs": [
    {
     "name": "stdout",
     "output_type": "stream",
     "text": [
      "Difference:\n",
      "[[-3  6  0]\n",
      " [ 1  2  2]\n",
      " [ 0 -3 -3]]\n"
     ]
    }
   ],
   "source": [
    "matrix4=matrix1-matrix2\n",
    "print('Difference:')\n",
    "print(matrix4)"
   ]
  },
  {
   "cell_type": "markdown",
   "metadata": {},
   "source": [
    "## Multiplication"
   ]
  },
  {
   "cell_type": "code",
   "execution_count": 10,
   "metadata": {},
   "outputs": [
    {
     "name": "stdout",
     "output_type": "stream",
     "text": [
      "Product:\n",
      "[[10 27 81]\n",
      " [20  3 15]\n",
      " [36 40  4]]\n"
     ]
    }
   ],
   "source": [
    "matrix6=matrix1*matrix2\n",
    "print('Product:')\n",
    "print(matrix6)"
   ]
  },
  {
   "cell_type": "markdown",
   "metadata": {},
   "source": [
    "## Display specific rows and columns"
   ]
  },
  {
   "cell_type": "code",
   "execution_count": 11,
   "metadata": {},
   "outputs": [
    {
     "name": "stdout",
     "output_type": "stream",
     "text": [
      "Specific row and column\n",
      "[[3 5]\n",
      " [5 1]]\n"
     ]
    }
   ],
   "source": [
    "print('Specific row and column')\n",
    "print(matrix1[1:,1:])"
   ]
  },
  {
   "cell_type": "code",
   "execution_count": null,
   "metadata": {},
   "outputs": [],
   "source": []
  }
 ],
 "metadata": {
  "kernelspec": {
   "display_name": "Python 3",
   "language": "python",
   "name": "python3"
  },
  "language_info": {
   "codemirror_mode": {
    "name": "ipython",
    "version": 3
   },
   "file_extension": ".py",
   "mimetype": "text/x-python",
   "name": "python",
   "nbconvert_exporter": "python",
   "pygments_lexer": "ipython3",
   "version": "3.8.5"
  }
 },
 "nbformat": 4,
 "nbformat_minor": 4
}
