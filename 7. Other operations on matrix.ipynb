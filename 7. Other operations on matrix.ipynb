{
 "cells": [
  {
   "cell_type": "markdown",
   "metadata": {},
   "source": [
    "# Operations on Matrices"
   ]
  },
  {
   "cell_type": "code",
   "execution_count": 1,
   "metadata": {},
   "outputs": [],
   "source": [
    "import numpy as np"
   ]
  },
  {
   "cell_type": "code",
   "execution_count": 5,
   "metadata": {},
   "outputs": [
    {
     "name": "stdout",
     "output_type": "stream",
     "text": [
      "Array:\n",
      "[[-0.9936922  -0.96852051  0.44910283]\n",
      " [ 0.14579613  0.6747177   0.77601732]\n",
      " [ 0.91379979  0.51471121 -1.16813429]\n",
      " [-0.62605055 -0.19620029 -1.3037407 ]]\n"
     ]
    }
   ],
   "source": [
    "arr=np.random.randn(4,3)\n",
    "print('Array:')\n",
    "print(arr)"
   ]
  },
  {
   "cell_type": "markdown",
   "metadata": {},
   "source": [
    "## Absolute Value of the Array"
   ]
  },
  {
   "cell_type": "code",
   "execution_count": 10,
   "metadata": {},
   "outputs": [
    {
     "name": "stdout",
     "output_type": "stream",
     "text": [
      "1. Absolute Value of the Array\n",
      "[[0.9936922  0.96852051 0.44910283]\n",
      " [0.14579613 0.6747177  0.77601732]\n",
      " [0.91379979 0.51471121 1.16813429]\n",
      " [0.62605055 0.19620029 1.3037407 ]]\n"
     ]
    }
   ],
   "source": [
    "print('1. Absolute Value of the Array')\n",
    "print(np.absolute(arr))"
   ]
  },
  {
   "cell_type": "markdown",
   "metadata": {},
   "source": [
    "## Negative Value of the Array"
   ]
  },
  {
   "cell_type": "code",
   "execution_count": 9,
   "metadata": {},
   "outputs": [
    {
     "name": "stdout",
     "output_type": "stream",
     "text": [
      "2. Negative Value of the Array\n",
      "[[ 0.9936922   0.96852051 -0.44910283]\n",
      " [-0.14579613 -0.6747177  -0.77601732]\n",
      " [-0.91379979 -0.51471121  1.16813429]\n",
      " [ 0.62605055  0.19620029  1.3037407 ]]\n"
     ]
    }
   ],
   "source": [
    "print('2. Negative Value of the Array')\n",
    "print(np.negative(arr))"
   ]
  },
  {
   "cell_type": "markdown",
   "metadata": {},
   "source": [
    "## Array after deleting a row and a column"
   ]
  },
  {
   "cell_type": "code",
   "execution_count": 12,
   "metadata": {},
   "outputs": [
    {
     "name": "stdout",
     "output_type": "stream",
     "text": [
      "3. The array after deleting row 2\n",
      "[[-0.9936922  -0.96852051  0.44910283]\n",
      " [ 0.14579613  0.6747177   0.77601732]\n",
      " [-0.62605055 -0.19620029 -1.3037407 ]]\n",
      "4. The array after deleting column 2\n",
      "[[-0.9936922  -0.96852051]\n",
      " [ 0.14579613  0.6747177 ]\n",
      " [ 0.91379979  0.51471121]\n",
      " [-0.62605055 -0.19620029]]\n"
     ]
    }
   ],
   "source": [
    "print('3. The array after deleting row 2')\n",
    "print(np.delete(arr,2,0))\n",
    "print('4. The array after deleting column 2')\n",
    "print(np.delete(arr,2,1))"
   ]
  },
  {
   "cell_type": "markdown",
   "metadata": {},
   "source": [
    "## Maximum and Minimum Value of the Array"
   ]
  },
  {
   "cell_type": "code",
   "execution_count": 13,
   "metadata": {},
   "outputs": [
    {
     "name": "stdout",
     "output_type": "stream",
     "text": [
      "5. Maximum value in the array\n",
      "0.9137997924261446\n",
      "6. Minimum value in the array\n",
      "-1.3037406969538428\n"
     ]
    }
   ],
   "source": [
    "print('5. Maximum value in the array')\n",
    "print(np.max(arr))\n",
    "print('6. Minimum value in the array')\n",
    "print(np.min(arr))"
   ]
  },
  {
   "cell_type": "markdown",
   "metadata": {},
   "source": [
    "## Sum of elements of the Array"
   ]
  },
  {
   "cell_type": "code",
   "execution_count": 14,
   "metadata": {},
   "outputs": [
    {
     "name": "stdout",
     "output_type": "stream",
     "text": [
      "7. Sum of all elements\n",
      "-1.7821935475788695\n",
      "8. Sum of all elements (row-wise)\n",
      "[-0.56014682  0.02470811 -1.24675483]\n",
      "9. Sum of all elements (column-wise)\n",
      "[-1.51310988  1.59653115  0.26037671 -2.12599153]\n"
     ]
    }
   ],
   "source": [
    "print('7. Sum of all elements')\n",
    "print(np.sum(arr))\n",
    "print('8. Sum of all elements (row-wise)')\n",
    "print(np.sum(arr,0))\n",
    "print('9. Sum of all elements (column-wise)')\n",
    "print(np.sum(arr,1))"
   ]
  },
  {
   "cell_type": "code",
   "execution_count": null,
   "metadata": {},
   "outputs": [],
   "source": []
  }
 ],
 "metadata": {
  "kernelspec": {
   "display_name": "Python 3",
   "language": "python",
   "name": "python3"
  },
  "language_info": {
   "codemirror_mode": {
    "name": "ipython",
    "version": 3
   },
   "file_extension": ".py",
   "mimetype": "text/x-python",
   "name": "python",
   "nbconvert_exporter": "python",
   "pygments_lexer": "ipython3",
   "version": "3.8.5"
  }
 },
 "nbformat": 4,
 "nbformat_minor": 4
}
