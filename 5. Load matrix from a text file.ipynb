{
 "cells": [
  {
   "cell_type": "markdown",
   "metadata": {},
   "source": [
    "# Matrix"
   ]
  },
  {
   "cell_type": "code",
   "execution_count": 1,
   "metadata": {},
   "outputs": [],
   "source": [
    "import numpy as np"
   ]
  },
  {
   "cell_type": "code",
   "execution_count": 3,
   "metadata": {},
   "outputs": [
    {
     "name": "stdout",
     "output_type": "stream",
     "text": [
      "Array:\n",
      "[[-0.11514466 -0.16820103  1.23030797]\n",
      " [ 0.94357603  0.20591613  0.60455225]\n",
      " [ 0.18847714 -0.85507326  0.15883477]\n",
      " [-0.48859146  1.01562304  2.01548653]]\n",
      "1. Size of the array:\n",
      "12\n",
      "2. Size of a particular row of the array (second row)\n",
      "4\n",
      "3. Size of a particular column of the array (second column)\n",
      "3\n",
      "4. Taking input from a text file\n",
      "Input from the file [25.     4.    32.     5.47   2.111 67.   ]\n",
      "5. Saving an array to the file\n"
     ]
    }
   ],
   "source": [
    "arr = np.random.randn(4,3)\n",
    "print('Array:')\n",
    "print(arr)\n",
    "print('1. Size of the array:')\n",
    "print(arr.size)\n",
    "print('2. Size of a particular row of the array (second row)')\n",
    "print(len(arr[:,2]))\n",
    "print('3. Size of a particular column of the array (second column)')\n",
    "print(len(arr[2,:]))\n",
    "print('4. Taking input from a text file')\n",
    "with open('Ques5','r') as f:\n",
    "    l=np.loadtxt(f)\n",
    "print('Input from the file',l)\n",
    "print('5. Saving an array to the file')\n",
    "with open('Ques5','wb') as f:\n",
    "    np.savetxt(f,arr)"
   ]
  },
  {
   "cell_type": "code",
   "execution_count": null,
   "metadata": {},
   "outputs": [],
   "source": []
  }
 ],
 "metadata": {
  "kernelspec": {
   "display_name": "Python 3",
   "language": "python",
   "name": "python3"
  },
  "language_info": {
   "codemirror_mode": {
    "name": "ipython",
    "version": 3
   },
   "file_extension": ".py",
   "mimetype": "text/x-python",
   "name": "python",
   "nbconvert_exporter": "python",
   "pygments_lexer": "ipython3",
   "version": "3.8.5"
  }
 },
 "nbformat": 4,
 "nbformat_minor": 4
}
