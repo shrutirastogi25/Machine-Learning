{
 "cells": [
  {
   "cell_type": "markdown",
   "metadata": {},
   "source": [
    "# Simple Variables and Strings"
   ]
  },
  {
   "cell_type": "code",
   "execution_count": 5,
   "metadata": {},
   "outputs": [],
   "source": [
    "x = 25\n",
    "y=6/4\n",
    "z=\"Hello World. This is a string.\""
   ]
  },
  {
   "cell_type": "markdown",
   "metadata": {},
   "source": [
    "## String Formatting"
   ]
  },
  {
   "cell_type": "code",
   "execution_count": 6,
   "metadata": {},
   "outputs": [
    {
     "name": "stdout",
     "output_type": "stream",
     "text": [
      "25\n",
      "['Hello', 'World.', 'This', 'is', 'a', 'string.']\n",
      "['Hello World. This is a string.']\n",
      "Hello World. This is a string.\n",
      "HELLO WORLD. THIS IS A STRING.\n",
      "hello world. this is a string.\n",
      "Hello world. this is a string.\n",
      "Hello World. This Is A String.\n",
      "Hello Welcome World. Welcome This Welcome is Welcome a Welcome string.\n"
     ]
    }
   ],
   "source": [
    "print(x)\n",
    "print(z.split())\n",
    "print(z.splitlines())\n",
    "print(z.strip())\n",
    "print(z.upper())\n",
    "print(z.lower())\n",
    "print(z.capitalize())\n",
    "print(z.title())\n",
    "print(\" Welcome \".join(z.split()))"
   ]
  },
  {
   "cell_type": "markdown",
   "metadata": {},
   "source": [
    "## Number Formatting"
   ]
  },
  {
   "cell_type": "code",
   "execution_count": 7,
   "metadata": {},
   "outputs": [
    {
     "name": "stdout",
     "output_type": "stream",
     "text": [
      "1\n",
      "1.500\n",
      "0x19\n",
      "0b11001\n",
      "0o31\n"
     ]
    }
   ],
   "source": [
    "print(int(y))\n",
    "print(\"%0.3f\"%(y))\n",
    "print(hex(x))\n",
    "print(bin(x))\n",
    "print(oct(x))"
   ]
  }
 ],
 "metadata": {
  "kernelspec": {
   "display_name": "Python 3",
   "language": "python",
   "name": "python3"
  },
  "language_info": {
   "codemirror_mode": {
    "name": "ipython",
    "version": 3
   },
   "file_extension": ".py",
   "mimetype": "text/x-python",
   "name": "python",
   "nbconvert_exporter": "python",
   "pygments_lexer": "ipython3",
   "version": "3.8.5"
  }
 },
 "nbformat": 4,
 "nbformat_minor": 4
}
