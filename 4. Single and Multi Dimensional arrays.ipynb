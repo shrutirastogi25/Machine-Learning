{
 "cells": [
  {
   "cell_type": "markdown",
   "metadata": {},
   "source": [
    "# Single and Multi Dimensional Arrays"
   ]
  },
  {
   "cell_type": "code",
   "execution_count": 1,
   "metadata": {},
   "outputs": [],
   "source": [
    "import numpy as np"
   ]
  },
  {
   "cell_type": "markdown",
   "metadata": {},
   "source": [
    "## Single Dimensional Array"
   ]
  },
  {
   "cell_type": "code",
   "execution_count": 4,
   "metadata": {},
   "outputs": [
    {
     "name": "stdout",
     "output_type": "stream",
     "text": [
      "1. Single dimensional array with all 0s:\n",
      "[0 0 0 0 0]\n",
      "2. Single dimesional array with all 1s:\n",
      "[1 1 1 1 1]\n",
      "3. Single dimesional array with random integers:\n",
      "[6 1 7 7 6]\n",
      "4. Single dimesional array with values within a range:\n",
      "[1 2 3 4 5 6 7 8 9]\n"
     ]
    }
   ],
   "source": [
    "print('1. Single dimensional array with all 0s:')\n",
    "print(np.zeros(5,int))\n",
    "print('2. Single dimesional array with all 1s:')\n",
    "print(np.ones(5,int))\n",
    "print('3. Single dimesional array with random integers:')\n",
    "print(np.random.randint(1,10,5))\n",
    "print('4. Single dimesional array with values within a range:')\n",
    "print(np.arange(1,10))"
   ]
  },
  {
   "cell_type": "markdown",
   "metadata": {},
   "source": [
    "## Multidimensional Array"
   ]
  },
  {
   "cell_type": "code",
   "execution_count": 3,
   "metadata": {},
   "outputs": [
    {
     "name": "stdout",
     "output_type": "stream",
     "text": [
      "1. Multidimensional array with all 0s:\n",
      "[[0 0 0]\n",
      " [0 0 0]\n",
      " [0 0 0]\n",
      " [0 0 0]]\n",
      "2. Multidimensional array with all 1s:\n",
      "[[1 1 1]\n",
      " [1 1 1]\n",
      " [1 1 1]\n",
      " [1 1 1]]\n",
      "3. Multidimensional array with random integers:\n",
      "[[4 1 1]\n",
      " [2 2 4]\n",
      " [2 6 9]\n",
      " [5 7 8]]\n",
      "4. Multidimensional array with values within a range:\n",
      "[[1 2 3]\n",
      " [4 5 6]\n",
      " [7 8 9]]\n",
      "5. Multidimensional array with diagonal elements:\n",
      "[[1 0 0 0]\n",
      " [0 1 0 0]\n",
      " [0 0 1 0]\n",
      " [0 0 0 1]]\n"
     ]
    }
   ],
   "source": [
    "print('1. Multidimensional array with all 0s:')\n",
    "print(np.zeros((4,3),int))\n",
    "print('2. Multidimensional array with all 1s:')\n",
    "print(np.ones((4,3),int))\n",
    "print('3. Multidimensional array with random integers:')\n",
    "print(np.random.randint(1,10,(4,3)))\n",
    "print('4. Multidimensional array with values within a range:')\n",
    "print(np.arange(1,10).reshape(3,3))\n",
    "print('5. Multidimensional array with diagonal elements:')\n",
    "print(np.eye(4,None,0,int))"
   ]
  },
  {
   "cell_type": "code",
   "execution_count": null,
   "metadata": {},
   "outputs": [],
   "source": []
  }
 ],
 "metadata": {
  "kernelspec": {
   "display_name": "Python 3",
   "language": "python",
   "name": "python3"
  },
  "language_info": {
   "codemirror_mode": {
    "name": "ipython",
    "version": 3
   },
   "file_extension": ".py",
   "mimetype": "text/x-python",
   "name": "python",
   "nbconvert_exporter": "python",
   "pygments_lexer": "ipython3",
   "version": "3.8.5"
  }
 },
 "nbformat": 4,
 "nbformat_minor": 4
}
